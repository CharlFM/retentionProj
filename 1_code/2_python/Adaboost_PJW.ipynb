{
 "cells": [
  {
   "cell_type": "markdown",
   "metadata": {},
   "source": [
    "## Adaboost"
   ]
  },
  {
   "cell_type": "code",
   "execution_count": 1,
   "metadata": {},
   "outputs": [],
   "source": [
    "#IMPORT DATA\n",
    "import pandas as pd\n",
    "import numpy as np\n",
    "data_train = pd.read_csv('train.csv')\n",
    "data_test=pd.read_csv('test.csv')\n"
   ]
  },
  {
   "cell_type": "code",
   "execution_count": 2,
   "metadata": {},
   "outputs": [
    {
     "data": {
      "text/html": [
       "<div>\n",
       "<style scoped>\n",
       "    .dataframe tbody tr th:only-of-type {\n",
       "        vertical-align: middle;\n",
       "    }\n",
       "\n",
       "    .dataframe tbody tr th {\n",
       "        vertical-align: top;\n",
       "    }\n",
       "\n",
       "    .dataframe thead th {\n",
       "        text-align: right;\n",
       "    }\n",
       "</style>\n",
       "<table border=\"1\" class=\"dataframe\">\n",
       "  <thead>\n",
       "    <tr style=\"text-align: right;\">\n",
       "      <th></th>\n",
       "      <th>Program_Code</th>\n",
       "      <th>Travel_Type</th>\n",
       "      <th>SPR_Product_Type</th>\n",
       "      <th>GroupGradeTypeLow</th>\n",
       "      <th>GroupGradeTypeHigh</th>\n",
       "      <th>GroupGradeType</th>\n",
       "      <th>MajorProgramCode</th>\n",
       "      <th>Poverty_Code</th>\n",
       "      <th>Region</th>\n",
       "      <th>CRM_Segment</th>\n",
       "      <th>...</th>\n",
       "      <th>FRP_Take_up_percent_</th>\n",
       "      <th>EZ_Pay_Take_Up_Rate</th>\n",
       "      <th>SPR_Group_Revenue</th>\n",
       "      <th>FPP_to_PAX</th>\n",
       "      <th>pol_mean</th>\n",
       "      <th>sub_mean</th>\n",
       "      <th>twl_mean</th>\n",
       "      <th>numTweets</th>\n",
       "      <th>totPaxDiff</th>\n",
       "      <th>depositToDeparture</th>\n",
       "    </tr>\n",
       "  </thead>\n",
       "  <tbody>\n",
       "    <tr>\n",
       "      <th>0</th>\n",
       "      <td>other</td>\n",
       "      <td>air</td>\n",
       "      <td>East Coast</td>\n",
       "      <td>PK</td>\n",
       "      <td>Middle</td>\n",
       "      <td>PK-&gt;Middle</td>\n",
       "      <td>C</td>\n",
       "      <td>other</td>\n",
       "      <td>Northern California</td>\n",
       "      <td>9</td>\n",
       "      <td>...</td>\n",
       "      <td>0.570244</td>\n",
       "      <td>0.119431</td>\n",
       "      <td>2708.000000</td>\n",
       "      <td>0.888166</td>\n",
       "      <td>0.000000</td>\n",
       "      <td>0.000000</td>\n",
       "      <td>31.333333</td>\n",
       "      <td>3</td>\n",
       "      <td>2</td>\n",
       "      <td>190.000000</td>\n",
       "    </tr>\n",
       "    <tr>\n",
       "      <th>1</th>\n",
       "      <td>other</td>\n",
       "      <td>air</td>\n",
       "      <td>East Coast</td>\n",
       "      <td>K</td>\n",
       "      <td>Middle</td>\n",
       "      <td>K-&gt;Middle</td>\n",
       "      <td>C</td>\n",
       "      <td>other</td>\n",
       "      <td>other</td>\n",
       "      <td>other</td>\n",
       "      <td>...</td>\n",
       "      <td>0.510360</td>\n",
       "      <td>0.190362</td>\n",
       "      <td>1250.605592</td>\n",
       "      <td>1.000000</td>\n",
       "      <td>0.000000</td>\n",
       "      <td>0.000000</td>\n",
       "      <td>0.000000</td>\n",
       "      <td>0</td>\n",
       "      <td>1</td>\n",
       "      <td>199.424613</td>\n",
       "    </tr>\n",
       "    <tr>\n",
       "      <th>2</th>\n",
       "      <td>other</td>\n",
       "      <td>air</td>\n",
       "      <td>East Coast</td>\n",
       "      <td>PK</td>\n",
       "      <td>Middle</td>\n",
       "      <td>PK-&gt;Middle</td>\n",
       "      <td>C</td>\n",
       "      <td>other</td>\n",
       "      <td>Northern California</td>\n",
       "      <td>5</td>\n",
       "      <td>...</td>\n",
       "      <td>0.623850</td>\n",
       "      <td>0.274595</td>\n",
       "      <td>2518.000000</td>\n",
       "      <td>0.929941</td>\n",
       "      <td>0.966667</td>\n",
       "      <td>0.400000</td>\n",
       "      <td>34.333333</td>\n",
       "      <td>3</td>\n",
       "      <td>-13</td>\n",
       "      <td>164.000000</td>\n",
       "    </tr>\n",
       "    <tr>\n",
       "      <th>3</th>\n",
       "      <td>other</td>\n",
       "      <td>air</td>\n",
       "      <td>East Coast</td>\n",
       "      <td>PK</td>\n",
       "      <td>Middle</td>\n",
       "      <td>PK-&gt;Middle</td>\n",
       "      <td>C</td>\n",
       "      <td>other</td>\n",
       "      <td>Northern California</td>\n",
       "      <td>5</td>\n",
       "      <td>...</td>\n",
       "      <td>0.592224</td>\n",
       "      <td>0.262095</td>\n",
       "      <td>2505.000000</td>\n",
       "      <td>0.894531</td>\n",
       "      <td>0.933333</td>\n",
       "      <td>0.733333</td>\n",
       "      <td>57.666667</td>\n",
       "      <td>3</td>\n",
       "      <td>-1</td>\n",
       "      <td>162.000000</td>\n",
       "    </tr>\n",
       "    <tr>\n",
       "      <th>4</th>\n",
       "      <td>other</td>\n",
       "      <td>air</td>\n",
       "      <td>East Coast</td>\n",
       "      <td>PK</td>\n",
       "      <td>Middle</td>\n",
       "      <td>PK-&gt;Middle</td>\n",
       "      <td>C</td>\n",
       "      <td>other</td>\n",
       "      <td>Northern California</td>\n",
       "      <td>9</td>\n",
       "      <td>...</td>\n",
       "      <td>0.571137</td>\n",
       "      <td>0.088141</td>\n",
       "      <td>2569.000000</td>\n",
       "      <td>0.850497</td>\n",
       "      <td>0.000000</td>\n",
       "      <td>0.200000</td>\n",
       "      <td>54.333333</td>\n",
       "      <td>3</td>\n",
       "      <td>-4</td>\n",
       "      <td>195.000000</td>\n",
       "    </tr>\n",
       "  </tbody>\n",
       "</table>\n",
       "<p>5 rows × 51 columns</p>\n",
       "</div>"
      ],
      "text/plain": [
       "  Program_Code Travel_Type SPR_Product_Type GroupGradeTypeLow  \\\n",
       "0        other         air       East Coast                PK   \n",
       "1        other         air       East Coast                 K   \n",
       "2        other         air       East Coast                PK   \n",
       "3        other         air       East Coast                PK   \n",
       "4        other         air       East Coast                PK   \n",
       "\n",
       "  GroupGradeTypeHigh GroupGradeType MajorProgramCode Poverty_Code  \\\n",
       "0             Middle     PK->Middle                C        other   \n",
       "1             Middle      K->Middle                C        other   \n",
       "2             Middle     PK->Middle                C        other   \n",
       "3             Middle     PK->Middle                C        other   \n",
       "4             Middle     PK->Middle                C        other   \n",
       "\n",
       "                Region CRM_Segment  ... FRP_Take_up_percent_  \\\n",
       "0  Northern California           9  ...             0.570244   \n",
       "1                other       other  ...             0.510360   \n",
       "2  Northern California           5  ...             0.623850   \n",
       "3  Northern California           5  ...             0.592224   \n",
       "4  Northern California           9  ...             0.571137   \n",
       "\n",
       "   EZ_Pay_Take_Up_Rate SPR_Group_Revenue  FPP_to_PAX  pol_mean  sub_mean  \\\n",
       "0             0.119431       2708.000000    0.888166  0.000000  0.000000   \n",
       "1             0.190362       1250.605592    1.000000  0.000000  0.000000   \n",
       "2             0.274595       2518.000000    0.929941  0.966667  0.400000   \n",
       "3             0.262095       2505.000000    0.894531  0.933333  0.733333   \n",
       "4             0.088141       2569.000000    0.850497  0.000000  0.200000   \n",
       "\n",
       "    twl_mean numTweets totPaxDiff  depositToDeparture  \n",
       "0  31.333333         3          2          190.000000  \n",
       "1   0.000000         0          1          199.424613  \n",
       "2  34.333333         3        -13          164.000000  \n",
       "3  57.666667         3         -1          162.000000  \n",
       "4  54.333333         3         -4          195.000000  \n",
       "\n",
       "[5 rows x 51 columns]"
      ]
     },
     "execution_count": 2,
     "metadata": {},
     "output_type": "execute_result"
    }
   ],
   "source": [
    "#Separate X and y (explanatory variables and target variable in train set)\n",
    "X_train = data_train.iloc[:,2:]\n",
    "column_names = list(X_train) \n",
    "Y_train = data_train.iloc[:,0] \n",
    "del X_train['Retained_class']\n",
    "X_train.head()"
   ]
  },
  {
   "cell_type": "code",
   "execution_count": 4,
   "metadata": {},
   "outputs": [
    {
     "data": {
      "text/html": [
       "<div>\n",
       "<style scoped>\n",
       "    .dataframe tbody tr th:only-of-type {\n",
       "        vertical-align: middle;\n",
       "    }\n",
       "\n",
       "    .dataframe tbody tr th {\n",
       "        vertical-align: top;\n",
       "    }\n",
       "\n",
       "    .dataframe thead th {\n",
       "        text-align: right;\n",
       "    }\n",
       "</style>\n",
       "<table border=\"1\" class=\"dataframe\">\n",
       "  <thead>\n",
       "    <tr style=\"text-align: right;\">\n",
       "      <th></th>\n",
       "      <th>Program_Code</th>\n",
       "      <th>Travel_Type</th>\n",
       "      <th>SPR_Product_Type</th>\n",
       "      <th>GroupGradeTypeLow</th>\n",
       "      <th>GroupGradeTypeHigh</th>\n",
       "      <th>GroupGradeType</th>\n",
       "      <th>MajorProgramCode</th>\n",
       "      <th>Poverty_Code</th>\n",
       "      <th>Region</th>\n",
       "      <th>CRM_Segment</th>\n",
       "      <th>...</th>\n",
       "      <th>FRP_Take_up_percent_</th>\n",
       "      <th>EZ_Pay_Take_Up_Rate</th>\n",
       "      <th>SPR_Group_Revenue</th>\n",
       "      <th>FPP_to_PAX</th>\n",
       "      <th>pol_mean</th>\n",
       "      <th>sub_mean</th>\n",
       "      <th>twl_mean</th>\n",
       "      <th>numTweets</th>\n",
       "      <th>totPaxDiff</th>\n",
       "      <th>depositToDeparture</th>\n",
       "    </tr>\n",
       "  </thead>\n",
       "  <tbody>\n",
       "    <tr>\n",
       "      <th>0</th>\n",
       "      <td>other</td>\n",
       "      <td>air</td>\n",
       "      <td>East Coast</td>\n",
       "      <td>K</td>\n",
       "      <td>High</td>\n",
       "      <td>K-&gt;High</td>\n",
       "      <td>C</td>\n",
       "      <td>other</td>\n",
       "      <td>Southern California</td>\n",
       "      <td>10</td>\n",
       "      <td>...</td>\n",
       "      <td>0.345746</td>\n",
       "      <td>0.103222</td>\n",
       "      <td>2167.0</td>\n",
       "      <td>0.991415</td>\n",
       "      <td>0.766667</td>\n",
       "      <td>0.829167</td>\n",
       "      <td>62.000000</td>\n",
       "      <td>3</td>\n",
       "      <td>-2</td>\n",
       "      <td>320.0</td>\n",
       "    </tr>\n",
       "    <tr>\n",
       "      <th>1</th>\n",
       "      <td>other</td>\n",
       "      <td>air</td>\n",
       "      <td>East Coast</td>\n",
       "      <td>PK</td>\n",
       "      <td>Middle</td>\n",
       "      <td>PK-&gt;Middle</td>\n",
       "      <td>C</td>\n",
       "      <td>other</td>\n",
       "      <td>Southern California</td>\n",
       "      <td>11</td>\n",
       "      <td>...</td>\n",
       "      <td>0.404058</td>\n",
       "      <td>0.104028</td>\n",
       "      <td>2148.0</td>\n",
       "      <td>0.915161</td>\n",
       "      <td>1.000000</td>\n",
       "      <td>0.533333</td>\n",
       "      <td>44.666667</td>\n",
       "      <td>3</td>\n",
       "      <td>4</td>\n",
       "      <td>213.0</td>\n",
       "    </tr>\n",
       "    <tr>\n",
       "      <th>2</th>\n",
       "      <td>other</td>\n",
       "      <td>air</td>\n",
       "      <td>East Coast</td>\n",
       "      <td>K</td>\n",
       "      <td>Middle</td>\n",
       "      <td>K-&gt;Middle</td>\n",
       "      <td>C</td>\n",
       "      <td>other</td>\n",
       "      <td>Pacific Northwest</td>\n",
       "      <td>1</td>\n",
       "      <td>...</td>\n",
       "      <td>0.517738</td>\n",
       "      <td>0.000000</td>\n",
       "      <td>1989.0</td>\n",
       "      <td>0.866585</td>\n",
       "      <td>1.000000</td>\n",
       "      <td>1.000000</td>\n",
       "      <td>23.000000</td>\n",
       "      <td>3</td>\n",
       "      <td>1</td>\n",
       "      <td>139.0</td>\n",
       "    </tr>\n",
       "    <tr>\n",
       "      <th>3</th>\n",
       "      <td>other</td>\n",
       "      <td>air</td>\n",
       "      <td>East Coast</td>\n",
       "      <td>Middle</td>\n",
       "      <td>Middle</td>\n",
       "      <td>Middle-&gt;Middle</td>\n",
       "      <td>C</td>\n",
       "      <td>other</td>\n",
       "      <td>Southern California</td>\n",
       "      <td>5</td>\n",
       "      <td>...</td>\n",
       "      <td>0.721320</td>\n",
       "      <td>0.381479</td>\n",
       "      <td>2388.0</td>\n",
       "      <td>0.887128</td>\n",
       "      <td>0.000000</td>\n",
       "      <td>0.000000</td>\n",
       "      <td>50.000000</td>\n",
       "      <td>3</td>\n",
       "      <td>-12</td>\n",
       "      <td>399.0</td>\n",
       "    </tr>\n",
       "    <tr>\n",
       "      <th>4</th>\n",
       "      <td>other</td>\n",
       "      <td>air</td>\n",
       "      <td>East Coast</td>\n",
       "      <td>K</td>\n",
       "      <td>Middle</td>\n",
       "      <td>K-&gt;Middle</td>\n",
       "      <td>C</td>\n",
       "      <td>other</td>\n",
       "      <td>Southern California</td>\n",
       "      <td>5</td>\n",
       "      <td>...</td>\n",
       "      <td>0.492463</td>\n",
       "      <td>0.168508</td>\n",
       "      <td>2360.0</td>\n",
       "      <td>0.957977</td>\n",
       "      <td>0.700000</td>\n",
       "      <td>0.800000</td>\n",
       "      <td>23.000000</td>\n",
       "      <td>4</td>\n",
       "      <td>-4</td>\n",
       "      <td>207.0</td>\n",
       "    </tr>\n",
       "  </tbody>\n",
       "</table>\n",
       "<p>5 rows × 51 columns</p>\n",
       "</div>"
      ],
      "text/plain": [
       "  Program_Code Travel_Type SPR_Product_Type GroupGradeTypeLow  \\\n",
       "0        other         air       East Coast                 K   \n",
       "1        other         air       East Coast                PK   \n",
       "2        other         air       East Coast                 K   \n",
       "3        other         air       East Coast            Middle   \n",
       "4        other         air       East Coast                 K   \n",
       "\n",
       "  GroupGradeTypeHigh  GroupGradeType MajorProgramCode Poverty_Code  \\\n",
       "0               High         K->High                C        other   \n",
       "1             Middle      PK->Middle                C        other   \n",
       "2             Middle       K->Middle                C        other   \n",
       "3             Middle  Middle->Middle                C        other   \n",
       "4             Middle       K->Middle                C        other   \n",
       "\n",
       "                Region CRM_Segment  ... FRP_Take_up_percent_  \\\n",
       "0  Southern California          10  ...             0.345746   \n",
       "1  Southern California          11  ...             0.404058   \n",
       "2    Pacific Northwest           1  ...             0.517738   \n",
       "3  Southern California           5  ...             0.721320   \n",
       "4  Southern California           5  ...             0.492463   \n",
       "\n",
       "   EZ_Pay_Take_Up_Rate SPR_Group_Revenue  FPP_to_PAX  pol_mean  sub_mean  \\\n",
       "0             0.103222            2167.0    0.991415  0.766667  0.829167   \n",
       "1             0.104028            2148.0    0.915161  1.000000  0.533333   \n",
       "2             0.000000            1989.0    0.866585  1.000000  1.000000   \n",
       "3             0.381479            2388.0    0.887128  0.000000  0.000000   \n",
       "4             0.168508            2360.0    0.957977  0.700000  0.800000   \n",
       "\n",
       "    twl_mean numTweets totPaxDiff  depositToDeparture  \n",
       "0  62.000000         3         -2               320.0  \n",
       "1  44.666667         3          4               213.0  \n",
       "2  23.000000         3          1               139.0  \n",
       "3  50.000000         3        -12               399.0  \n",
       "4  23.000000         4         -4               207.0  \n",
       "\n",
       "[5 rows x 51 columns]"
      ]
     },
     "execution_count": 4,
     "metadata": {},
     "output_type": "execute_result"
    }
   ],
   "source": [
    "#Separate X and y (explanatory variables and target variable in test set)\n",
    "X_test = data_test.iloc[:,2:]\n",
    "column_names = list(X_test) \n",
    "Y_test = data_test.iloc[:,0] \n",
    "del X_test['Retained_class']\n",
    "X_test.head()"
   ]
  },
  {
   "cell_type": "code",
   "execution_count": 5,
   "metadata": {},
   "outputs": [],
   "source": [
    "#CREATE DUMMIES VARIABLES\n",
    "X_test=pd.get_dummies(X_test,columns=X_test.columns[:31])"
   ]
  },
  {
   "cell_type": "code",
   "execution_count": 6,
   "metadata": {},
   "outputs": [],
   "source": [
    "X_train=pd.get_dummies(X_train,columns=X_train.columns[:31])"
   ]
  },
  {
   "cell_type": "code",
   "execution_count": 7,
   "metadata": {},
   "outputs": [],
   "source": [
    "missing_cols = set( X_train.columns ) - set( X_test.columns )\n",
    "#Add a missing column in test set with default value equal to 0\n",
    "for c in missing_cols:\n",
    "    X_test[c] = 0\n",
    "# Ensure the order of column in the test set is in the same order than in train set\n",
    "X_test = X_test[X_train.columns]"
   ]
  },
  {
   "cell_type": "code",
   "execution_count": 10,
   "metadata": {},
   "outputs": [
    {
     "name": "stdout",
     "output_type": "stream",
     "text": [
      "f1_score:  0.9226277372262773\n"
     ]
    }
   ],
   "source": [
    "from sklearn.ensemble import AdaBoostClassifier\n",
    "from sklearn import metrics\n",
    "from sklearn.tree import DecisionTreeClassifier\n",
    "\n",
    "adaboost = AdaBoostClassifier(n_estimators=1000, base_estimator=DecisionTreeClassifier(max_depth=10))\n",
    "adaboost.fit(X_train, Y_train)\n",
    "\n",
    "y_pred = adaboost.predict(X_test)\n",
    "\n",
    "y_pred_train = adaboost.predict(X_test)\n",
    "print(\"f1_score: \", metrics.f1_score(Y_test, y_pred))"
   ]
  },
  {
   "cell_type": "code",
   "execution_count": 12,
   "metadata": {},
   "outputs": [
    {
     "name": "stdout",
     "output_type": "stream",
     "text": [
      "Fitting 3 folds for each of 16 candidates, totalling 48 fits\n"
     ]
    },
    {
     "name": "stderr",
     "output_type": "stream",
     "text": [
      "[Parallel(n_jobs=-1)]: Using backend LokyBackend with 4 concurrent workers.\n",
      "[Parallel(n_jobs=-1)]: Done   5 tasks      | elapsed:  1.2min\n",
      "[Parallel(n_jobs=-1)]: Done  10 tasks      | elapsed:  2.6min\n",
      "[Parallel(n_jobs=-1)]: Done  17 tasks      | elapsed:  4.6min\n",
      "[Parallel(n_jobs=-1)]: Done  24 tasks      | elapsed:  6.3min\n",
      "[Parallel(n_jobs=-1)]: Done  33 tasks      | elapsed: 10.5min\n",
      "[Parallel(n_jobs=-1)]: Done  46 out of  48 | elapsed: 17.1min remaining:   44.4s\n",
      "[Parallel(n_jobs=-1)]: Done  48 out of  48 | elapsed: 17.6min finished\n"
     ]
    },
    {
     "data": {
      "text/plain": [
       "GridSearchCV(cv=3, estimator=AdaBoostClassifier(), n_jobs=-1,\n",
       "             param_grid={'learning_rate': [0.0001, 0.01, 0.1, 1.0],\n",
       "                         'n_estimators': [100, 500, 1000, 2000]},\n",
       "             scoring='f1', verbose=10)"
      ]
     },
     "execution_count": 12,
     "metadata": {},
     "output_type": "execute_result"
    }
   ],
   "source": [
    "from sklearn.model_selection import GridSearchCV\n",
    "\n",
    "classifier= AdaBoostClassifier()\n",
    "parameters = {'n_estimators' : [100, 500, 1000, 2000],\n",
    "    'learning_rate' : [0.0001, 0.01, 0.1, 1.0]}\n",
    "\n",
    "gs = GridSearchCV(classifier, parameters, cv=3, scoring = 'f1', verbose=10, n_jobs=-1, refit=True)\n",
    "\n",
    "gs.fit(X_train,Y_train)"
   ]
  },
  {
   "cell_type": "code",
   "execution_count": 13,
   "metadata": {},
   "outputs": [
    {
     "name": "stdout",
     "output_type": "stream",
     "text": [
      "***GRIDSEARCH RESULTS***\n",
      "Best score: 0.642979 using {'learning_rate': 1.0, 'n_estimators': 2000}\n",
      "0.599285 (0.281106) with: {'learning_rate': 0.0001, 'n_estimators': 100}\n",
      "0.599285 (0.281106) with: {'learning_rate': 0.0001, 'n_estimators': 500}\n",
      "0.599285 (0.281106) with: {'learning_rate': 0.0001, 'n_estimators': 1000}\n",
      "0.599285 (0.281106) with: {'learning_rate': 0.0001, 'n_estimators': 2000}\n",
      "0.597258 (0.279494) with: {'learning_rate': 0.01, 'n_estimators': 100}\n",
      "0.597385 (0.294635) with: {'learning_rate': 0.01, 'n_estimators': 500}\n",
      "0.612940 (0.272984) with: {'learning_rate': 0.01, 'n_estimators': 1000}\n",
      "0.622577 (0.257789) with: {'learning_rate': 0.01, 'n_estimators': 2000}\n",
      "0.613214 (0.271515) with: {'learning_rate': 0.1, 'n_estimators': 100}\n",
      "0.604313 (0.234665) with: {'learning_rate': 0.1, 'n_estimators': 500}\n",
      "0.622433 (0.209391) with: {'learning_rate': 0.1, 'n_estimators': 1000}\n",
      "0.641138 (0.188564) with: {'learning_rate': 0.1, 'n_estimators': 2000}\n",
      "0.634193 (0.201754) with: {'learning_rate': 1.0, 'n_estimators': 100}\n",
      "0.620253 (0.176101) with: {'learning_rate': 1.0, 'n_estimators': 500}\n",
      "0.628747 (0.155619) with: {'learning_rate': 1.0, 'n_estimators': 1000}\n",
      "0.642979 (0.129483) with: {'learning_rate': 1.0, 'n_estimators': 2000}\n"
     ]
    }
   ],
   "source": [
    "#summarize the results of the GRIDSEARCH\n",
    "print('***GRIDSEARCH RESULTS***')\n",
    "\n",
    "print(\"Best score: %f using %s\" % (gs.best_score_, gs.best_params_))\n",
    "means = gs.cv_results_['mean_test_score']\n",
    "stds = gs.cv_results_['std_test_score']\n",
    "params = gs.cv_results_['params']\n",
    "\n",
    "for mean, stdev, param in zip(means, stds, params):\n",
    "    print(\"%f (%f) with: %r\" % (mean, stdev, param))"
   ]
  },
  {
   "cell_type": "code",
   "execution_count": 14,
   "metadata": {},
   "outputs": [],
   "source": [
    "#TEST ON THE TEST SET \n",
    "best_model = gs.best_estimator_\n",
    "y_pred = best_model.predict(X_test)"
   ]
  },
  {
   "cell_type": "code",
   "execution_count": 16,
   "metadata": {},
   "outputs": [
    {
     "data": {
      "image/png": "[encoded data removed]",
      "text/plain": [
       "<Figure size 432x288 with 1 Axes>"
      ]
     },
     "metadata": {
      "needs_background": "light"
     },
     "output_type": "display_data"
    }
   ],
   "source": [
    "# Plot confusion matrix\n",
    "import seaborn as sns\n",
    "from sklearn.metrics import confusion_matrix\n",
    "sns.heatmap(confusion_matrix(Y_test, y_pred), annot=True, fmt='d', cmap=\"Reds\", cbar=False);"
   ]
  },
  {
   "cell_type": "code",
   "execution_count": 17,
   "metadata": {},
   "outputs": [
    {
     "name": "stdout",
     "output_type": "stream",
     "text": [
      "              precision    recall  f1-score   support\n",
      "\n",
      "           0       0.82      0.77      0.79       418\n",
      "           1       0.86      0.89      0.87       658\n",
      "\n",
      "    accuracy                           0.84      1076\n",
      "   macro avg       0.84      0.83      0.83      1076\n",
      "weighted avg       0.84      0.84      0.84      1076\n",
      "\n"
     ]
    }
   ],
   "source": [
    "from sklearn.metrics import classification_report\n",
    "\n",
    "print(classification_report(Y_test, y_pred))"
   ]
  },
  {
   "cell_type": "code",
   "execution_count": 18,
   "metadata": {},
   "outputs": [
    {
     "name": "stdout",
     "output_type": "stream",
     "text": [
      "f1_score:  1.0\n"
     ]
    }
   ],
   "source": [
    "y_pred_train = adaboost.predict(X_train)\n",
    "print(\"f1_score: \", metrics.f1_score(Y_train, y_pred_train))"
   ]
  },
  {
   "cell_type": "code",
   "execution_count": 19,
   "metadata": {},
   "outputs": [
    {
     "data": {
      "image/png": "[encoded data removed]",
      "text/plain": [
       "<Figure size 432x288 with 1 Axes>"
      ]
     },
     "metadata": {
      "needs_background": "light"
     },
     "output_type": "display_data"
    },
    {
     "name": "stdout",
     "output_type": "stream",
     "text": [
      "AUC: 0.94\n"
     ]
    }
   ],
   "source": [
    "adaboost = AdaBoostClassifier(n_estimators=2000, learning_rate=0.1)\n",
    "\n",
    "adaboost.fit(X_train,Y_train)\n",
    "\n",
    "y_probs = adaboost.predict_proba(X_test) #predict_proba gives the probabilities for the target (0 and 1 in your case) \n",
    "\n",
    "fpr, tpr, thresholds=metrics.roc_curve(Y_test,  y_probs[:,1])\n",
    "\n",
    "import matplotlib.pyplot as plt\n",
    "plt.plot(fpr, tpr, label='ROC')\n",
    "plt.plot([0, 1], [0, 1], color='darkblue', linestyle='--')\n",
    "plt.xlabel('False Positive Rate')\n",
    "plt.ylabel('True Positive Rate')\n",
    "plt.title('Receiver Operating Characteristic (ROC) Curve')\n",
    "plt.legend()\n",
    "plt.show()\n",
    "\n",
    "auc = metrics.roc_auc_score(Y_test, y_probs[:,1])\n",
    "print('AUC: %.2f' % auc)"
   ]
  },
  {
   "cell_type": "code",
   "execution_count": 26,
   "metadata": {},
   "outputs": [
    {
     "name": "stdout",
     "output_type": "stream",
     "text": [
      "MAE train:  0.08237844533911427\n",
      "MSE train:  0.08237844533911427\n",
      "RMSE train:  0.28701645482291477\n",
      "r2:  0.808204951466514\n",
      "MAE test:  0.129182156133829\n",
      "MSE test:  0.129182156133829\n",
      "RMSE test:  0.3594191927733256\n",
      "r2:  0.6754390529312272\n"
     ]
    }
   ],
   "source": [
    "from sklearn import metrics\n",
    "\n",
    "print(\"MAE train: \", metrics.mean_absolute_error(Y_train, adaboost.predict(X_train))) \n",
    "print(\"MSE train: \",metrics.mean_squared_error(Y_train, adaboost.predict(X_train)))\n",
    "print(\"RMSE train: \",np.sqrt(metrics.mean_squared_error(Y_train, adaboost.predict(X_train))))\n",
    "print(\"r2: \",np.sqrt(metrics.r2_score(Y_train, adaboost.predict(X_train))))\n",
    "\n",
    "print(\"MAE test: \", metrics.mean_absolute_error(Y_test, adaboost.predict(X_test))) \n",
    "print(\"MSE test: \",metrics.mean_squared_error(Y_test, adaboost.predict(X_test)))\n",
    "print(\"RMSE test: \",np.sqrt(metrics.mean_squared_error(Y_test, adaboost.predict(X_test))))\n",
    "print(\"r2: \",np.sqrt(metrics.r2_score(Y_test, adaboost.predict(X_test))))"
   ]
  },
  {
   "cell_type": "code",
   "execution_count": null,
   "metadata": {},
   "outputs": [],
   "source": []
  }
 ],
 "metadata": {
  "kernelspec": {
   "display_name": "Python 3",
   "language": "python",
   "name": "python3"
  },
  "language_info": {
   "codemirror_mode": {
    "name": "ipython",
    "version": 3
   },
   "file_extension": ".py",
   "mimetype": "text/x-python",
   "name": "python",
   "nbconvert_exporter": "python",
   "pygments_lexer": "ipython3",
   "version": "3.8.5"
  }
 },
 "nbformat": 4,
 "nbformat_minor": 2
}
